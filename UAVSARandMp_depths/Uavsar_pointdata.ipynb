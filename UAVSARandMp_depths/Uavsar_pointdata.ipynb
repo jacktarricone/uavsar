{
 "cells": [
  {
   "cell_type": "markdown",
   "id": "scheduled-hebrew",
   "metadata": {},
   "source": [
    "# Quering SQl database for UAVSAR team\n",
    "Import all the necessary python libraries"
   ]
  },
  {
   "cell_type": "code",
   "execution_count": 1,
   "id": "stopped-question",
   "metadata": {},
   "outputs": [],
   "source": [
    "import numpy as np\n",
    "import matplotlib.pyplot as plt \n",
    "import datetime\n",
    "\n",
    "#database imports\n",
    "from snowexsql.db import get_db\n",
    "from snowexsql.data import PointData, LayerData, ImageData, SiteData\n",
    "from snowexsql.conversions import query_to_geopandas"
   ]
  },
  {
   "cell_type": "markdown",
   "id": "moral-bangladesh",
   "metadata": {},
   "source": [
    "# Loading the database for extracting files"
   ]
  },
  {
   "cell_type": "code",
   "execution_count": 2,
   "id": "applied-bridges",
   "metadata": {},
   "outputs": [
    {
     "name": "stdout",
     "output_type": "stream",
     "text": [
      "snowexsql database loading successfull!\n"
     ]
    }
   ],
   "source": [
    "db_name = 'snow:hackweek@52.32.183.144/snowex'\n",
    "engine, session = get_db(db_name)\n",
    "\n",
    "print('snowexsql database loading successfull!')"
   ]
  },
  {
   "cell_type": "code",
   "execution_count": 3,
   "id": "metropolitan-washington",
   "metadata": {},
   "outputs": [
    {
     "name": "stdout",
     "output_type": "stream",
     "text": [
      "list of airborne sensors by \"surveyor\" name: \n",
      " [('USGS',), ('UAVSAR team, JPL',), ('ASO Inc.',)]\n"
     ]
    }
   ],
   "source": [
    "# Query the session using .surveyors() to generate a list\n",
    "qry = session.query(ImageData.surveyors)\n",
    "\n",
    "# Locate all that are distinct\n",
    "airborne_sensors_list = session.query(ImageData.surveyors).distinct().all()\n",
    "\n",
    "print('list of airborne sensors by \"surveyor\" name: \\n', airborne_sensors_list)"
   ]
  },
  {
   "cell_type": "markdown",
   "id": "simplified-logistics",
   "metadata": {},
   "source": [
    "# Finding Data for UAVSAR Team"
   ]
  },
  {
   "cell_type": "code",
   "execution_count": 4,
   "id": "broadband-polymer",
   "metadata": {},
   "outputs": [
    {
     "name": "stdout",
     "output_type": "stream",
     "text": [
      "UAVSAR team, JPL flight dates are: 2020-01-31, 2020-02-12\n",
      "                             geom site_id        date\n",
      "0  POINT (740652.000 4327445.000)     2C2  2020-01-31\n",
      "1  POINT (744396.000 4323540.000)    8C26  2020-01-31\n",
      "2  POINT (741960.000 4326644.000)    6C10  2020-01-31\n",
      "3  POINT (741493.000 4326833.000)     1C8  2020-01-31\n",
      "4  POINT (745340.000 4322754.000)    8S28  2020-01-31\n"
     ]
    }
   ],
   "source": [
    "# Airborne sensor from list above\n",
    "sensor = 'UAVSAR team, JPL'\n",
    "\n",
    "# Form on the Images table that returns Raster collection dates\n",
    "qry = session.query(ImageData.date)\n",
    "\n",
    "# Filter for UAVSAR data\n",
    "qry = qry.filter(ImageData.surveyors == sensor)\n",
    "\n",
    "# Grab the unique dates\n",
    "qry = qry.distinct()\n",
    "\n",
    "# Execute the query \n",
    "dates = qry.all() \n",
    "\n",
    "# Clean up the dates \n",
    "dates = [d[0] for d in dates] \n",
    "dlist = [str(d) for d in dates]\n",
    "dlist = \", \".join(dlist)\n",
    "print('%s flight dates are: %s' %(sensor, dlist))\n",
    "\n",
    "# Find all the snow pits done on these days\n",
    "qry = session.query(SiteData.geom, SiteData.site_id, SiteData.date)\n",
    "qry = qry.filter(SiteData.date.in_(dates))\n",
    "\n",
    "# Return a geopandas df\n",
    "df = query_to_geopandas(qry, engine)\n",
    "\n",
    "# View the returned pandas dataframe!\n",
    "print(df.head())\n",
    "\n",
    "# Close your session to avoid hanging transactions\n",
    "session.close()"
   ]
  },
  {
   "cell_type": "code",
   "execution_count": null,
   "id": "studied-saver",
   "metadata": {},
   "outputs": [],
   "source": []
  }
 ],
 "metadata": {
  "kernelspec": {
   "display_name": "Python 3",
   "language": "python",
   "name": "python3"
  },
  "language_info": {
   "codemirror_mode": {
    "name": "ipython",
    "version": 3
   },
   "file_extension": ".py",
   "mimetype": "text/x-python",
   "name": "python",
   "nbconvert_exporter": "python",
   "pygments_lexer": "ipython3",
   "version": "3.8.8"
  }
 },
 "nbformat": 4,
 "nbformat_minor": 5
}
