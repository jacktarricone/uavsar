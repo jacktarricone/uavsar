{
 "cells": [
  {
   "cell_type": "markdown",
   "id": "south-moldova",
   "metadata": {},
   "source": [
    "# Quering SQl database for UAVSAR team\n",
    "Import all the necessary python libraries"
   ]
  },
  {
   "cell_type": "code",
   "execution_count": 1,
   "id": "controversial-metro",
   "metadata": {},
   "outputs": [],
   "source": [
    "import numpy as np\n",
    "import matplotlib.pyplot as plt \n",
    "import datetime\n",
    "\n",
    "#database imports\n",
    "from snowexsql.db import get_db\n",
    "from snowexsql.data import PointData, LayerData, ImageData, SiteData\n",
    "from snowexsql.conversions import query_to_geopandas"
   ]
  },
  {
   "cell_type": "markdown",
   "id": "swiss-repository",
   "metadata": {},
   "source": [
    "# Loading the database for extracting files"
   ]
  },
  {
   "cell_type": "code",
   "execution_count": 2,
   "id": "dietary-thursday",
   "metadata": {},
   "outputs": [
    {
     "name": "stdout",
     "output_type": "stream",
     "text": [
      "snowexsql database loading successfull!\n"
     ]
    }
   ],
   "source": [
    "db_name = 'snow:hackweek@52.32.183.144/snowex'\n",
    "engine, session = get_db(db_name)\n",
    "\n",
    "print('snowexsql database loading successfull!')"
   ]
  },
  {
   "cell_type": "code",
   "execution_count": 3,
   "id": "altered-venue",
   "metadata": {},
   "outputs": [
    {
     "name": "stdout",
     "output_type": "stream",
     "text": [
      "list of airborne sensors by \"surveyor\" name: \n",
      " [('USGS',), ('UAVSAR team, JPL',), ('ASO Inc.',)]\n"
     ]
    }
   ],
   "source": [
    "# Query the session using .surveyors() to generate a list\n",
    "qry = session.query(ImageData.surveyors)\n",
    "\n",
    "# Locate all that are distinct\n",
    "airborne_sensors_list = session.query(ImageData.surveyors).distinct().all()\n",
    "\n",
    "print('list of airborne sensors by \"surveyor\" name: \\n', airborne_sensors_list)"
   ]
  },
  {
   "cell_type": "markdown",
   "id": "classified-proportion",
   "metadata": {},
   "source": [
    "# Finding Data for UAVSAR Team"
   ]
  },
  {
   "cell_type": "code",
   "execution_count": 4,
   "id": "hungry-astrology",
   "metadata": {},
   "outputs": [
    {
     "name": "stdout",
     "output_type": "stream",
     "text": [
      "UAVSAR team, JPL flight dates are: 2020-01-31, 2020-02-12\n",
      "                             geom site_id        date\n",
      "0  POINT (740652.000 4327445.000)     2C2  2020-01-31\n",
      "1  POINT (744396.000 4323540.000)    8C26  2020-01-31\n",
      "2  POINT (741960.000 4326644.000)    6C10  2020-01-31\n",
      "3  POINT (741493.000 4326833.000)     1C8  2020-01-31\n",
      "4  POINT (745340.000 4322754.000)    8S28  2020-01-31\n"
     ]
    }
   ],
   "source": [
    "# Airborne sensor from list above\n",
    "sensor = 'UAVSAR team, JPL'\n",
    "\n",
    "# Form on the Images table that returns Raster collection dates\n",
    "qry = session.query(ImageData.date)\n",
    "\n",
    "# Filter for UAVSAR data\n",
    "qry = qry.filter(ImageData.surveyors == sensor)\n",
    "\n",
    "# Grab the unique dates\n",
    "qry = qry.distinct()\n",
    "\n",
    "# Execute the query \n",
    "dates = qry.all() \n",
    "\n",
    "# Clean up the dates \n",
    "dates = [d[0] for d in dates] \n",
    "dlist = [str(d) for d in dates]\n",
    "dlist = \", \".join(dlist)\n",
    "print('%s flight dates are: %s' %(sensor, dlist))\n",
    "\n",
    "# Find all the snow pits done on these days\n",
    "qry = session.query(SiteData.geom, SiteData.site_id, SiteData.date)\n",
    "qry = qry.filter(SiteData.date.in_(dates))\n",
    "\n",
    "# Return a geopandas df\n",
    "df = query_to_geopandas(qry, engine)\n",
    "\n",
    "# View the returned pandas dataframe!\n",
    "print(df.head())\n",
    "\n",
    "# Close your session to avoid hanging transactions\n",
    "session.close()"
   ]
  },
  {
   "cell_type": "code",
   "execution_count": 5,
   "id": "confirmed-masters",
   "metadata": {},
   "outputs": [
    {
     "name": "stdout",
     "output_type": "stream",
     "text": [
      "17 pits overlap with UAVSAR team, JPL on 2020-01-31\n"
     ]
    },
    {
     "data": {
      "text/html": [
       "<div>\n",
       "<style scoped>\n",
       "    .dataframe tbody tr th:only-of-type {\n",
       "        vertical-align: middle;\n",
       "    }\n",
       "\n",
       "    .dataframe tbody tr th {\n",
       "        vertical-align: top;\n",
       "    }\n",
       "\n",
       "    .dataframe thead th {\n",
       "        text-align: right;\n",
       "    }\n",
       "</style>\n",
       "<table border=\"1\" class=\"dataframe\">\n",
       "  <thead>\n",
       "    <tr style=\"text-align: right;\">\n",
       "      <th></th>\n",
       "      <th>geom</th>\n",
       "      <th>site_id</th>\n",
       "      <th>date</th>\n",
       "    </tr>\n",
       "  </thead>\n",
       "  <tbody>\n",
       "    <tr>\n",
       "      <th>0</th>\n",
       "      <td>POINT (740652.000 4327445.000)</td>\n",
       "      <td>2C2</td>\n",
       "      <td>2020-01-31</td>\n",
       "    </tr>\n",
       "    <tr>\n",
       "      <th>1</th>\n",
       "      <td>POINT (744396.000 4323540.000)</td>\n",
       "      <td>8C26</td>\n",
       "      <td>2020-01-31</td>\n",
       "    </tr>\n",
       "    <tr>\n",
       "      <th>2</th>\n",
       "      <td>POINT (741960.000 4326644.000)</td>\n",
       "      <td>6C10</td>\n",
       "      <td>2020-01-31</td>\n",
       "    </tr>\n",
       "    <tr>\n",
       "      <th>3</th>\n",
       "      <td>POINT (741493.000 4326833.000)</td>\n",
       "      <td>1C8</td>\n",
       "      <td>2020-01-31</td>\n",
       "    </tr>\n",
       "    <tr>\n",
       "      <th>4</th>\n",
       "      <td>POINT (745340.000 4322754.000)</td>\n",
       "      <td>8S28</td>\n",
       "      <td>2020-01-31</td>\n",
       "    </tr>\n",
       "  </tbody>\n",
       "</table>\n",
       "</div>"
      ],
      "text/plain": [
       "                             geom site_id        date\n",
       "0  POINT (740652.000 4327445.000)     2C2  2020-01-31\n",
       "1  POINT (744396.000 4323540.000)    8C26  2020-01-31\n",
       "2  POINT (741960.000 4326644.000)    6C10  2020-01-31\n",
       "3  POINT (741493.000 4326833.000)     1C8  2020-01-31\n",
       "4  POINT (745340.000 4322754.000)    8S28  2020-01-31"
      ]
     },
     "execution_count": 5,
     "metadata": {},
     "output_type": "execute_result"
    }
   ],
   "source": [
    "# Pick a day from the list of dates\n",
    "dt = dates[0] \n",
    "\n",
    "# Find all the snow pits done on these days \n",
    "qry = session.query(SiteData.geom, SiteData.site_id, SiteData.date)\n",
    "qry = qry.filter(SiteData.date == dt)\n",
    "\n",
    "# Return a geopandas df\n",
    "df_exact = query_to_geopandas(qry, engine)\n",
    "\n",
    "print('%s pits overlap with %s on %s' %(len(df_exact), sensor, dt))\n",
    "\n",
    "# View snows pits that align with first UAVSAR date\n",
    "df_exact.head()"
   ]
  },
  {
   "cell_type": "markdown",
   "id": "portable-republic",
   "metadata": {},
   "source": [
    "# Form a date range to query on either side of our chosen day as the Insar interferometry date that is 2020-02-01."
   ]
  },
  {
   "cell_type": "code",
   "execution_count": 8,
   "id": "dominant-palmer",
   "metadata": {},
   "outputs": [
    {
     "name": "stdout",
     "output_type": "stream",
     "text": [
      "14 pits overlap with UAVSAR team, JPL on 2020-02-01\n"
     ]
    },
    {
     "data": {
      "text/html": [
       "<div>\n",
       "<style scoped>\n",
       "    .dataframe tbody tr th:only-of-type {\n",
       "        vertical-align: middle;\n",
       "    }\n",
       "\n",
       "    .dataframe tbody tr th {\n",
       "        vertical-align: top;\n",
       "    }\n",
       "\n",
       "    .dataframe thead th {\n",
       "        text-align: right;\n",
       "    }\n",
       "</style>\n",
       "<table border=\"1\" class=\"dataframe\">\n",
       "  <thead>\n",
       "    <tr style=\"text-align: right;\">\n",
       "      <th></th>\n",
       "      <th>geom</th>\n",
       "      <th>site_id</th>\n",
       "      <th>date</th>\n",
       "    </tr>\n",
       "  </thead>\n",
       "  <tbody>\n",
       "    <tr>\n",
       "      <th>10</th>\n",
       "      <td>POINT (745842.000 4323805.000)</td>\n",
       "      <td>9N44</td>\n",
       "      <td>2020-02-01</td>\n",
       "    </tr>\n",
       "    <tr>\n",
       "      <th>0</th>\n",
       "      <td>POINT (744561.000 4322721.000)</td>\n",
       "      <td>5S21</td>\n",
       "      <td>2020-02-01</td>\n",
       "    </tr>\n",
       "    <tr>\n",
       "      <th>11</th>\n",
       "      <td>POINT (746802.000 4324222.000)</td>\n",
       "      <td>2N48</td>\n",
       "      <td>2020-02-01</td>\n",
       "    </tr>\n",
       "    <tr>\n",
       "      <th>13</th>\n",
       "      <td>POINT (742607.000 4322917.000)</td>\n",
       "      <td>1S8</td>\n",
       "      <td>2020-02-01</td>\n",
       "    </tr>\n",
       "    <tr>\n",
       "      <th>6</th>\n",
       "      <td>POINT (743652.000 4322680.000)</td>\n",
       "      <td>3S14</td>\n",
       "      <td>2020-02-01</td>\n",
       "    </tr>\n",
       "    <tr>\n",
       "      <th>1</th>\n",
       "      <td>POINT (746228.000 4322671.000)</td>\n",
       "      <td>9S39</td>\n",
       "      <td>2020-02-01</td>\n",
       "    </tr>\n",
       "    <tr>\n",
       "      <th>2</th>\n",
       "      <td>POINT (745937.000 4322754.000)</td>\n",
       "      <td>2S37</td>\n",
       "      <td>2020-02-01</td>\n",
       "    </tr>\n",
       "    <tr>\n",
       "      <th>9</th>\n",
       "      <td>POINT (746303.000 4322571.000)</td>\n",
       "      <td>9S40</td>\n",
       "      <td>2020-02-01</td>\n",
       "    </tr>\n",
       "    <tr>\n",
       "      <th>12</th>\n",
       "      <td>POINT (743109.000 4322924.000)</td>\n",
       "      <td>2S11</td>\n",
       "      <td>2020-02-01</td>\n",
       "    </tr>\n",
       "    <tr>\n",
       "      <th>8</th>\n",
       "      <td>POINT (746553.000 4323759.000)</td>\n",
       "      <td>6N46</td>\n",
       "      <td>2020-02-01</td>\n",
       "    </tr>\n",
       "  </tbody>\n",
       "</table>\n",
       "</div>"
      ],
      "text/plain": [
       "                              geom site_id        date\n",
       "10  POINT (745842.000 4323805.000)    9N44  2020-02-01\n",
       "0   POINT (744561.000 4322721.000)    5S21  2020-02-01\n",
       "11  POINT (746802.000 4324222.000)    2N48  2020-02-01\n",
       "13  POINT (742607.000 4322917.000)     1S8  2020-02-01\n",
       "6   POINT (743652.000 4322680.000)    3S14  2020-02-01\n",
       "1   POINT (746228.000 4322671.000)    9S39  2020-02-01\n",
       "2   POINT (745937.000 4322754.000)    2S37  2020-02-01\n",
       "9   POINT (746303.000 4322571.000)    9S40  2020-02-01\n",
       "12  POINT (743109.000 4322924.000)    2S11  2020-02-01\n",
       "8   POINT (746553.000 4323759.000)    6N46  2020-02-01"
      ]
     },
     "execution_count": 8,
     "metadata": {},
     "output_type": "execute_result"
    }
   ],
   "source": [
    "date_range = [dt + i * datetime.timedelta(days=1) for i in [1]]\n",
    "\n",
    "# Find all the snow pits done on these days \n",
    "qry = session.query(SiteData.geom, SiteData.site_id, SiteData.date)\n",
    "qry = qry.filter(SiteData.date.in_(date_range))\n",
    "\n",
    "# Return a geopandas df\n",
    "df_range = query_to_geopandas(qry, engine)\n",
    "\n",
    "# Clean up dates (for print statement only)\n",
    "dlist = [str(d) for d in date_range]\n",
    "dlist = \", \".join(dlist)\n",
    "\n",
    "print('%s pits overlap with %s on %s' %(len(df_range), sensor, dlist))\n",
    "\n",
    "# View snow pits that are +/- 1 day of the first UAVSAR flight date\n",
    "df_range.sample(10)"
   ]
  },
  {
   "cell_type": "markdown",
   "id": "respected-tennessee",
   "metadata": {},
   "source": []
  }
 ],
 "metadata": {
  "kernelspec": {
   "display_name": "Python 3",
   "language": "python",
   "name": "python3"
  },
  "language_info": {
   "codemirror_mode": {
    "name": "ipython",
    "version": 3
   },
   "file_extension": ".py",
   "mimetype": "text/x-python",
   "name": "python",
   "nbconvert_exporter": "python",
   "pygments_lexer": "ipython3",
   "version": "3.8.8"
  }
 },
 "nbformat": 4,
 "nbformat_minor": 5
}
