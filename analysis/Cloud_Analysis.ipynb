{
 "cells": [
  {
   "cell_type": "code",
<<<<<<< HEAD
   "execution_count": 1,
   "id": "broken-prince",
=======
   "execution_count": 20,
   "id": "mysterious-eagle",
>>>>>>> main
   "metadata": {},
   "outputs": [],
   "source": [
    "import json\n",
    "import os\n",
    "import rasterio as rio\n",
    "import rioxarray\n",
    "import hvplot.xarray"
   ]
  },
  {
   "cell_type": "code",
<<<<<<< HEAD
   "execution_count": 2,
   "id": "blessed-zealand",
=======
   "execution_count": 21,
   "id": "optimum-taylor",
>>>>>>> main
   "metadata": {},
   "outputs": [
    {
     "name": "stderr",
     "output_type": "stream",
     "text": [
      "shell-init: error retrieving current directory: getcwd: cannot access parent directories: No such file or directory\n"
     ]
    }
   ],
   "source": [
    "%%bash \n",
    "# Set up temporary credentials for GDAL\n",
    "# https://github.com/OSGeo/gdal/issues/4058\n",
    "# NOTE: these last for 1 hour\n",
    "aws sts assume-role-with-web-identity \\\n",
    " --role-arn $AWS_ROLE_ARN \\\n",
    " --role-session-name snowex \\\n",
    " --web-identity-token file://$AWS_WEB_IDENTITY_TOKEN_FILE \\\n",
    " --duration-seconds 3600 > /tmp/irp-cred.json\n",
    "\n",
    "# Print out creds    \n",
    "#echo AWS_REGION=\"us-west-2\"\n",
    "#echo AWS_ACCESS_KEY_ID=\"$(cat /tmp/irp-cred.json | jq -r \".Credentials.AccessKeyId\")\"\n",
    "#echo AWS_SECRET_ACCESS_KEY=\"$(cat /tmp/irp-cred.json | jq -r \".Credentials.SecretAccessKey\")\"\n",
    "#echo AWS_SESSION_TOKEN=\"$(cat /tmp/irp-cred.json | jq -r \".Credentials.SessionToken\")\""
   ]
  },
  {
   "cell_type": "code",
<<<<<<< HEAD
   "execution_count": 3,
   "id": "alpine-insight",
=======
   "execution_count": 22,
   "id": "central-banking",
>>>>>>> main
   "metadata": {},
   "outputs": [],
   "source": [
    "# Use temporary credentials in python (rasterio)\n",
    "\n",
    "with open('/tmp/irp-cred.json') as f:\n",
    "    creds = json.load(f)\n",
    "    AccessKeyId = creds['Credentials']['AccessKeyId']\n",
    "    SecretAccessKey = creds['Credentials']['SecretAccessKey']\n",
    "    SessionToken = creds['Credentials']['SessionToken']\n",
    "    \n",
    "    # Set environment variables\n",
    "    os.environ['AWS_ACCESS_KEY_ID'] = AccessKeyId\n",
    "    os.environ['AWS_SECRET_ACCESS_KEY'] = SecretAccessKey\n",
    "    os.environ['AWS_SESSION_TOKEN'] = SessionToken\n",
    "\n",
    "# GDAL env variables https://gdal.org/user/virtual_file_systems.html#vsicurl-http-https-ftp-files-random-access\n",
    "Env = rio.Env(GDAL_DISABLE_READDIR_ON_OPEN='EMPTY_DIR')\n",
    "da = None"
   ]
  },
  {
   "cell_type": "code",
   "execution_count": 14,
<<<<<<< HEAD
   "id": "recreational-argument",
=======
   "id": "lucky-station",
>>>>>>> main
   "metadata": {},
   "outputs": [
    {
     "name": "stdout",
     "output_type": "stream",
     "text": [
      "<xarray.DataArray ()>\n",
      "array(0., dtype=float32)\n",
      "Coordinates:\n",
      "    spatial_ref  int64 0\n"
     ]
    }
   ],
   "source": [
    "# Now you can read it directly and work with subsets, etc\n",
    "s3_path = 's3://snowex-data/uavsar-project/UAVSAR_images/GrMesa_2015_054_261_0006d/GrMesa_26108_15054-005_15055-007_0006d_s01_L090HH_01.cor.grd.tif'\n",
    "with Env:\n",
    "    da = rioxarray.open_rasterio(s3_path, masked=True).squeeze('band', drop=True)\n",
    "print(da.mean())\n",
    "da.name = os.path.basename(s3_path)"
   ]
  },
  {
   "cell_type": "code",
<<<<<<< HEAD
   "execution_count": 16,
   "id": "superior-substitute",
=======
   "execution_count": null,
   "id": "manufactured-chancellor",
>>>>>>> main
   "metadata": {},
   "outputs": [],
   "source": [
    "import numpy as np\n",
    "x = da.values\n",
    "print(x)\n",
    "x[x == 0] = np.nan\n",
    "print(len(x[~np.isnan(x)]))\n",
    "x[~np.isnan(x)].cou()"
   ]
  },
  {
   "cell_type": "code",
   "execution_count": 4,
<<<<<<< HEAD
   "id": "sublime-wright",
=======
   "id": "valued-courage",
>>>>>>> main
   "metadata": {
    "jupyter": {
     "source_hidden": true
    }
   },
   "outputs": [],
   "source": [
    "import subprocess\n",
    "import tqdm\n",
    "import sys\n",
    "\n",
    "def s3_img_access(regions = ['grmesa','peeler','rockmt','silver','uticam','lowman'],\n",
    "                 years = [2015,2016,2017,2018,2019,2020,2021],\n",
    "                 day_threshold = 364,\n",
    "                 types = ['cor','unw'],\n",
    "                 bands = ['HH','VV','HV','VH'],\n",
    "                 bucket_url = 's3://snowex-data/uavsar-project/UAVSAR_images/'):\n",
    "    '''\n",
    "    Function to access a s3 cloud bucket and retreive UAVSAR images based on year, region, type, bands, bucket_url\n",
    "    :param regions: list of regions that you are interested in\n",
    "    :param years: list of years you are intersted in\n",
    "    :param day_threshold: int of max number of days between flights you want\n",
    "    :param bands: which polarizations you want\n",
    "    :param bucket_url: url of the aws s3 bucket and subfolder that contains the flights\n",
    "    returns a dictionary with the complete url as the keys [(use print img_dict.keys()) to see what was returned] and rasterio images as values.\n",
    "    \n",
    "    '''\n",
    "    s = subprocess.Popen([\"aws s3 ls {}\".format(bucket_url)], shell=True, stdout=subprocess.PIPE).stdout\n",
    "    service_states = s.read().splitlines()\n",
    "\n",
    "    list_dirs = []\n",
    "    for i in service_states:\n",
    "        i_str = i.decode(\"utf-8\")\n",
    "        i_final = i_str.replace(' ','').replace('PRE','').replace('\\'','').replace('/','')\n",
    "        list_dirs.append(i_final)\n",
    "    list_dirs=list_dirs[:-1]\n",
    "    img_dict = {}\n",
    "    for direc in (list_dirs):\n",
    "        dir_region = direc.split('_')[0].lower()\n",
    "        dir_year = int(direc.split('_')[1])\n",
    "        dir_days = int(direc.split('_')[4].replace('d',''))\n",
    "        if dir_region in regions:\n",
    "            if dir_year in years:\n",
    "                if dir_days < day_threshold:\n",
    "                    s = subprocess.Popen([\"aws s3 ls {}{}/\".format(bucket_url,direc)], shell=True, stdout=subprocess.PIPE).stdout\n",
    "                    service_states = s.read().splitlines()\n",
    "                    file_dirs = []\n",
    "                    for i in service_states:\n",
    "                        i_str = i.decode(\"utf-8\")\n",
    "                        i_final = i_str.split(' ')[-1]\n",
    "                        for t in types:\n",
    "                            if t in i_final:\n",
    "                                for band in bands:\n",
    "                                    if band in i_final:\n",
    "                                        file_dirs.append(i_final)\n",
    "                    for file in (file_dirs):\n",
    "                        s3_url = (bucket_url+direc+'/'+file)\n",
    "                        # Now you can read it directly and work with subsets, etc\n",
    "                        import rioxarray\n",
    "                        with Env:\n",
    "                            da = rioxarray.open_rasterio(s3_url, masked=True).squeeze('band', drop=True)\n",
    "                        da.name = os.path.basename(s3_url)\n",
    "                        img_dict[s3_url] = da\n",
    "    return img_dict"
   ]
  },
  {
   "cell_type": "code",
<<<<<<< HEAD
   "execution_count": 5,
   "id": "useful-mississippi",
=======
   "execution_count": 23,
   "id": "hearing-hypothesis",
>>>>>>> main
   "metadata": {},
   "outputs": [],
   "source": [
    "import pandas as pd\n",
    "import numpy as np\n",
    "import subprocess\n",
    "import tqdm\n",
    "import sys\n",
    "\n",
    "def s3_img_attributes(regions = ['grmesa','peeler','rockmt','silver','uticam','lowman'],\n",
    "                 years = [2015,2016,2017,2018,2019,2020,2021],\n",
    "                 day_threshold = 364,\n",
    "                 types = ['cor','unw'],\n",
    "                 bands = ['HH','VV','HV','VH'],\n",
    "                 bucket_url = 's3://snowex-data/uavsar-project/UAVSAR_images/'):\n",
    "    '''\n",
    "    Function to access a s3 cloud bucket and retreive UAVSAR images' attributes\n",
    "    :param regions: list of regions that you are interested in\n",
    "    :param years: list of years you are intersted in\n",
    "    :param day_threshold: int of max number of days between flights you want\n",
    "    :param bands: which polarizations you want\n",
    "    :param bucket_url: url of the aws s3 bucket and subfolder that contains the flights\n",
    "    returns a pd dataframe of attributes from images\n",
    "    \n",
    "    '''\n",
    "    \n",
    "    df = pd.DataFrame()\n",
    "    s = subprocess.Popen([\"aws s3 ls {}\".format(bucket_url)], shell=True, stdout=subprocess.PIPE).stdout\n",
    "    service_states = s.read().splitlines()\n",
    "\n",
    "    list_dirs = []\n",
    "    for i in service_states:\n",
    "        i_str = i.decode(\"utf-8\")\n",
    "        i_final = i_str.replace(' ','').replace('PRE','').replace('\\'','').replace('/','')\n",
    "        list_dirs.append(i_final)\n",
    "    list_dirs=list_dirs[:-1]\n",
    "    img_dict = {}\n",
    "    dir_len = (len(list_dirs))\n",
    "    count = 0\n",
    "    for direc in (list_dirs):\n",
    "        dir_region = direc.split('_')[0].lower()\n",
    "        dir_year = int(direc.split('_')[1])\n",
    "        dir_days = int(direc.split('_')[4].replace('d',''))\n",
    "        count += 1\n",
    "        print(\"{} of {}\".format(count,dir_len))\n",
    "        if dir_region in regions:\n",
    "            if dir_year in years:\n",
    "                if dir_days < day_threshold:\n",
    "                    s = subprocess.Popen([\"aws s3 ls {}{}/\".format(bucket_url,direc)], shell=True, stdout=subprocess.PIPE).stdout\n",
    "                    service_states = s.read().splitlines()\n",
    "                    file_dirs = []\n",
    "                    for i in service_states:\n",
    "                        i_str = i.decode(\"utf-8\")\n",
    "                        i_final = i_str.split(' ')[-1]\n",
    "                        for t in types:\n",
    "                            if t in i_final:\n",
    "                                for band in bands:\n",
    "                                    if band in i_final:\n",
    "                                        file_dirs.append(i_final)\n",
    "                    for file in (file_dirs):\n",
    "                        print(file)\n",
    "                        s3_url = (bucket_url+direc+'/'+file)\n",
    "                        print(s3_url)\n",
    "                        # Now you can read it directly and work with subsets, etc\n",
    "                        import rioxarray\n",
    "                        with Env:\n",
    "                            da = rioxarray.open_rasterio(s3_url, masked=True).squeeze('band', drop=True)\n",
    "                        da.name = os.path.basename(s3_url)\n",
    "                        #da = da.where(da != 0, np.nan)\n",
    "                        x = da.values\n",
    "                        x[x == 0] = np.nan\n",
    "                        if len(x[~np.isnan(x)]) != 0:\n",
    "                            img_data_dict = {}\n",
    "                            img_data_dict['band'] = s3_url.split('.')[-4].split('_')[-2][4:]\n",
    "                            img_data_dict['region'] = s3_url.split('/')[-1].split('.')[0].split('_')[0].lower()\n",
    "                            img_data_dict['days_between'] = int(s3_url.split('.')[-4].split('_')[-4].replace('d',''))\n",
    "                            img_data_dict['year'] = dir_year\n",
    "                            img_data_dict['type'] = s3_url.split('.')[-3]\n",
    "                            img_data_dict['mean'] = x[~np.isnan(x)].mean()\n",
    "                            img_data_dict['std'] = x[~np.isnan(x)].std()\n",
    "                            img_data_dict['max'] = x[~np.isnan(x)].max()\n",
    "                            img_data_dict['min'] = x[~np.isnan(x)].min()\n",
    "                            img_data_dict['25th'] = np.quantile(x[~np.isnan(x)],(0.25))\n",
    "                            img_data_dict['75th'] = np.quantile(x[~np.isnan(x)],(0.75))\n",
    "                            df = df.append(img_data_dict, ignore_index = True)\n",
    "                        else:\n",
    "                            print('no non zero values')\n",
    "                        da = None\n",
    "                        \n",
    "    return df"
   ]
  },
  {
   "cell_type": "code",
   "execution_count": null,
<<<<<<< HEAD
   "id": "reported-purple",
=======
   "id": "annoying-russian",
>>>>>>> main
   "metadata": {
    "jupyter": {
     "source_hidden": true
    }
   },
   "outputs": [],
   "source": [
    "img_dict = s3_img_access(types = ['cor'])\n",
    "len(img_dict)"
   ]
  },
  {
   "cell_type": "code",
   "execution_count": null,
<<<<<<< HEAD
   "id": "valid-weight",
=======
   "id": "functioning-wichita",
>>>>>>> main
   "metadata": {},
   "outputs": [
    {
     "name": "stdout",
     "output_type": "stream",
     "text": [
      "1 of 60\n",
      "2 of 60\n",
      "3 of 60\n",
      "4 of 60\n",
      "5 of 60\n",
      "6 of 60\n",
      "7 of 60\n",
      "8 of 60\n",
      "9 of 60\n",
      "10 of 60\n",
      "11 of 60\n",
      "12 of 60\n",
      "13 of 60\n",
      "14 of 60\n",
      "15 of 60\n",
      "16 of 60\n",
      "grmesa_26006_17002-001_17016-001_0016d_s01_L090HV_02.cor.grd.tif\n",
      "s3://snowex-data/uavsar-project/UAVSAR_images/grmesa_2017_002_260_0016d/grmesa_26006_17002-001_17016-001_0016d_s01_L090HV_02.cor.grd.tif\n",
      "17 of 60\n",
      "grmesa_26006_17002-001_17018-001_0019d_s01_L090HV_01.cor.grd.tif\n",
      "s3://snowex-data/uavsar-project/UAVSAR_images/grmesa_2017_002_260_0019d/grmesa_26006_17002-001_17018-001_0019d_s01_L090HV_01.cor.grd.tif\n",
      "18 of 60\n",
      "grmesa_26006_17002-001_17026-001_0030d_s01_L090HV_01.cor.grd.tif\n",
      "s3://snowex-data/uavsar-project/UAVSAR_images/grmesa_2017_002_260_0030d/grmesa_26006_17002-001_17026-001_0030d_s01_L090HV_01.cor.grd.tif\n",
      "19 of 60\n",
      "grmesa_26006_17002-001_17043-005_0053d_s01_L090HV_01.cor.grd.tif\n",
      "s3://snowex-data/uavsar-project/UAVSAR_images/grmesa_2017_002_260_0053d/grmesa_26006_17002-001_17043-005_0053d_s01_L090HV_01.cor.grd.tif\n"
     ]
    }
   ],
   "source": [
    "%%time\n",
    "region_fullish = ['grmesa','peeler','rockmt','silver','uticam']\n",
    "region_silver = ['silver']\n",
    "df = s3_img_attributes(types = ['cor'], bands = ['HV'], regions = region_fullish)"
   ]
  },
  {
   "cell_type": "code",
   "execution_count": null,
<<<<<<< HEAD
   "id": "unique-locator",
=======
   "id": "emerging-wrestling",
>>>>>>> main
   "metadata": {
    "jupyter": {
     "source_hidden": true
    }
   },
   "outputs": [],
   "source": [
    "# # Now you can read it directly and work with subsets, etc\n",
    "# import rioxarray\n",
    "# import pandas as pd\n",
    "# import numpy as np\n",
    "# #print(img_dict.keys())\n",
    "\n",
    "# img_data_dict = {}\n",
    "# df = pd.DataFrame()\n",
    "\n",
    "# for key, da in img_dict.items():\n",
    "#     print(key.split('.')[-3])\n",
    "# #     da = img_dict[key]\n",
    "\n",
    "# #     band = key.split('.')[-4].split('_')[-2][4:]\n",
    "# #     region = key.split('/')[-1].split('.')[0].split('_')[0].lower()\n",
    "# #     days_between = int(key.split('.')[-4].split('_')[-4].replace('d',''))\n",
    "\n",
    "\n",
    "# #     cor_mean = np.mean(da.values)\n",
    "\n",
    "# #     img_data_dict['name'] = key\n",
    "# #     img_data_dict['days_between'] = days_between\n",
    "# #     img_data_dict['region'] = region\n",
    "# #     img_data_dict['band'] = band\n",
    "\n",
    "# #     img_data_dict['cor_mean'] = cor_mean\n",
    "\n",
    "# #     df = df.append(img_data_dict, ignore_index = True)"
   ]
  },
  {
   "cell_type": "code",
   "execution_count": 7,
<<<<<<< HEAD
   "id": "juvenile-minneapolis",
=======
   "id": "stainless-possession",
>>>>>>> main
   "metadata": {},
   "outputs": [
    {
     "data": {
      "text/html": [
       "<div>\n",
       "<style scoped>\n",
       "    .dataframe tbody tr th:only-of-type {\n",
       "        vertical-align: middle;\n",
       "    }\n",
       "\n",
       "    .dataframe tbody tr th {\n",
       "        vertical-align: top;\n",
       "    }\n",
       "\n",
       "    .dataframe thead th {\n",
       "        text-align: right;\n",
       "    }\n",
       "</style>\n",
       "<table border=\"1\" class=\"dataframe\">\n",
       "  <thead>\n",
       "    <tr style=\"text-align: right;\">\n",
       "      <th></th>\n",
       "      <th>25th</th>\n",
       "      <th>75th</th>\n",
       "      <th>band</th>\n",
       "      <th>days_between</th>\n",
       "      <th>max</th>\n",
       "      <th>mean</th>\n",
       "      <th>min</th>\n",
       "      <th>region</th>\n",
       "      <th>std</th>\n",
       "      <th>type</th>\n",
       "      <th>year</th>\n",
       "    </tr>\n",
       "  </thead>\n",
       "  <tbody>\n",
       "    <tr>\n",
       "      <th>0</th>\n",
       "      <td>0.345458</td>\n",
       "      <td>0.798408</td>\n",
       "      <td>HH</td>\n",
       "      <td>19.0</td>\n",
       "      <td>0.998331</td>\n",
       "      <td>0.56592</td>\n",
       "      <td>0.000211</td>\n",
       "      <td>silver</td>\n",
       "      <td>0.255914</td>\n",
       "      <td>cor</td>\n",
       "      <td>2020.0</td>\n",
       "    </tr>\n",
       "  </tbody>\n",
       "</table>\n",
       "</div>"
      ],
      "text/plain": [
       "       25th      75th band  days_between       max     mean       min  region  \\\n",
       "0  0.345458  0.798408   HH          19.0  0.998331  0.56592  0.000211  silver   \n",
       "\n",
       "        std type    year  \n",
       "0  0.255914  cor  2020.0  "
      ]
     },
     "execution_count": 7,
     "metadata": {},
     "output_type": "execute_result"
    }
   ],
   "source": [
    "df"
   ]
  },
  {
   "cell_type": "code",
   "execution_count": null,
<<<<<<< HEAD
   "id": "novel-effects",
=======
   "id": "governing-damage",
>>>>>>> main
   "metadata": {},
   "outputs": [],
   "source": [
    "df.to_csv('hh_cor')"
   ]
  },
  {
   "cell_type": "code",
   "execution_count": 18,
<<<<<<< HEAD
   "id": "athletic-concept",
=======
   "id": "effective-export",
>>>>>>> main
   "metadata": {},
   "outputs": [
    {
     "data": {
      "text/plain": [
       "<AxesSubplot:title={'center':'Coherence STD relative to Days Between Flights'}, xlabel='Days Between', ylabel='Standard Deviation of Coherence'>"
      ]
     },
     "execution_count": 18,
     "metadata": {},
     "output_type": "execute_result"
    },
    {
     "data": {
      "image/png": "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\n",
      "text/plain": [
       "<Figure size 432x288 with 1 Axes>"
      ]
     },
     "metadata": {
      "needs_background": "light"
     },
     "output_type": "display_data"
    }
   ],
   "source": [
    "df.plot(x = 'days_between', y = 'std', kind = 'scatter', xlim = [0,60], title = 'Coherence STD relative to Days Between Flights', xlabel = 'Days Between', ylabel = 'Standard Deviation of Coherence')"
   ]
  },
  {
   "cell_type": "code",
   "execution_count": null,
<<<<<<< HEAD
   "id": "functioning-latino",
=======
   "id": "decimal-share",
>>>>>>> main
   "metadata": {},
   "outputs": [],
   "source": []
  }
 ],
 "metadata": {
  "kernelspec": {
   "display_name": "Python 3",
   "language": "python",
   "name": "python3"
  },
  "language_info": {
   "codemirror_mode": {
    "name": "ipython",
    "version": 3
   },
   "file_extension": ".py",
   "mimetype": "text/x-python",
   "name": "python",
   "nbconvert_exporter": "python",
   "pygments_lexer": "ipython3",
   "version": "3.8.8"
  }
 },
 "nbformat": 4,
 "nbformat_minor": 5
}
